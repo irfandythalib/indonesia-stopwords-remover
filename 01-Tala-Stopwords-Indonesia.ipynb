{
 "cells": [
  {
   "cell_type": "markdown",
   "metadata": {},
   "source": [
    "Stopwords By : Tala from paper : A Study of Stemming Effects on Information Retrieval in Bahasa Indonesia\n",
    "Source : https://github.com/masdevid/ID-Stopwords"
   ]
  },
  {
   "cell_type": "code",
   "execution_count": 1,
   "metadata": {
    "ExecuteTime": {
     "end_time": "2022-06-07T13:21:48.870252Z",
     "start_time": "2022-06-07T13:21:24.340263Z"
    }
   },
   "outputs": [],
   "source": [
    "from nltk.tokenize import word_tokenize"
   ]
  },
  {
   "cell_type": "code",
   "execution_count": 2,
   "metadata": {
    "ExecuteTime": {
     "end_time": "2022-06-07T13:21:49.338645Z",
     "start_time": "2022-06-07T13:21:48.872251Z"
    }
   },
   "outputs": [
    {
     "data": {
      "text/plain": [
       "758"
      ]
     },
     "execution_count": 2,
     "metadata": {},
     "output_type": "execute_result"
    }
   ],
   "source": [
    "f = open(\"tala-stopwords-indonesia.txt\", \"r\")\n",
    "stopword_list = []\n",
    "for line in f:\n",
    "    stripped_line = line.strip()\n",
    "    line_list = stripped_line.split()\n",
    "    stopword_list.append(line_list[0])\n",
    "f.close()\n",
    "\n",
    "len(stopword_list)"
   ]
  },
  {
   "cell_type": "code",
   "execution_count": 10,
   "metadata": {
    "ExecuteTime": {
     "end_time": "2022-06-07T13:23:38.679667Z",
     "start_time": "2022-06-07T13:23:38.660668Z"
    }
   },
   "outputs": [
    {
     "name": "stdout",
     "output_type": "stream",
     "text": [
      "Before stopwords removed\n",
      "['apa', 'yang', 'dimakan', 'oleh', 'bambang', 'apakah', 'mengapa']\n"
     ]
    }
   ],
   "source": [
    "text = \"Apa yang dimakan oleh bambang apakah mengapa\".lower()\n",
    "text_tokens = word_tokenize(text)\n",
    "print(\"Before stopwords removed\")\n",
    "print(text_tokens)\n"
   ]
  },
  {
   "cell_type": "code",
   "execution_count": 11,
   "metadata": {
    "ExecuteTime": {
     "end_time": "2022-06-07T13:23:40.208616Z",
     "start_time": "2022-06-07T13:23:39.274680Z"
    }
   },
   "outputs": [
    {
     "name": "stdout",
     "output_type": "stream",
     "text": [
      "After stopwords removed\n",
      "['dimakan', 'bambang']\n"
     ]
    }
   ],
   "source": [
    "tokens_without_sw = [word for word in text_tokens if not word in stopword_list]\n",
    "print(\"After stopwords removed\")\n",
    "print(tokens_without_sw)"
   ]
  }
 ],
 "metadata": {
  "kernelspec": {
   "display_name": "Python 3",
   "language": "python",
   "name": "python3"
  },
  "language_info": {
   "codemirror_mode": {
    "name": "ipython",
    "version": 3
   },
   "file_extension": ".py",
   "mimetype": "text/x-python",
   "name": "python",
   "nbconvert_exporter": "python",
   "pygments_lexer": "ipython3",
   "version": "3.7.7"
  }
 },
 "nbformat": 4,
 "nbformat_minor": 4
}
